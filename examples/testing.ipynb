{
 "nbformat": 4,
 "nbformat_minor": 2,
 "metadata": {
  "language_info": {
   "name": "python",
   "codemirror_mode": {
    "name": "ipython",
    "version": 3
   },
   "version": "3.8.2-final"
  },
  "orig_nbformat": 2,
  "file_extension": ".py",
  "mimetype": "text/x-python",
  "name": "python",
  "npconvert_exporter": "python",
  "pygments_lexer": "ipython3",
  "version": 3,
  "kernelspec": {
   "name": "python38264bit321dd73511904334b0ed0076087d508e",
   "display_name": "Python 3.8.2 64-bit"
  }
 },
 "cells": [
  {
   "cell_type": "code",
   "execution_count": 6,
   "metadata": {},
   "outputs": [
    {
     "output_type": "execute_result",
     "data": {
      "text/plain": "<xarray.core.options.set_options at 0x7f3cca411a90>"
     },
     "metadata": {},
     "execution_count": 6
    }
   ],
   "source": [
    "from hydro.exchange import read_exchange\n",
    "from hydro.tutorial import CCHDOBottleData\n",
    "from hydro.exceptions import ExchangeError\n",
    "\n",
    "import xarray as xr\n",
    "xr.set_options(display_style=\"text\")\n",
    "#disable the HTML repr for now"
   ]
  },
  {
   "cell_type": "code",
   "execution_count": 7,
   "metadata": {},
   "outputs": [],
   "source": [
    "# This loads a ton of data (300MB) can take a while\n",
    "#bottle_data = CCHDOBottleData()"
   ]
  },
  {
   "cell_type": "code",
   "execution_count": 8,
   "metadata": {
    "tags": [
     "outputPrepend"
    ]
   },
   "outputs": [],
   "source": [
    "ex = read_exchange(\"https://cchdo.ucsd.edu/data/45/pr16_2004b_hy1.csv\")"
   ]
  },
  {
   "cell_type": "code",
   "execution_count": 13,
   "metadata": {},
   "outputs": [
    {
     "output_type": "execute_result",
     "data": {
      "text/plain": "<xarray.Dataset>\nDimensions:   (N_LEVELS: 8, N_PROF: 17)\nDimensions without coordinates: N_LEVELS, N_PROF\nData variables:\n    var0      (N_PROF) object '33RBGP604_1' '33RBGP604_1' ... '33RBGP604_1'\n    var1      (N_PROF) object 'PR16' 'PR16' 'PR16' ... 'PR16' 'PR16' 'PR16'\n    var2      (N_PROF) object '28' '29' '30' '31' '32' ... '46' '47' '48' '49'\n    var3      (N_PROF) float64 1.0 1.0 1.0 1.0 1.0 1.0 ... 1.0 1.0 1.0 1.0 1.0\n    var4      (N_PROF, N_LEVELS) object '8' '7' '6' '5' '4' ... '4' '3' '2' '1'\n    var5      (N_PROF, N_LEVELS) object '8' '7' '6' '5' '4' ... '4' '3' '2' '1'\n    var5_qc   (N_PROF, N_LEVELS) float64 2.0 2.0 2.0 2.0 2.0 ... 2.0 2.0 2.0 2.0\n    var6      (N_PROF, N_LEVELS) object '2004-11-14' ... '2004-11-21'\n    var7      (N_PROF, N_LEVELS) object '11:24:00' '11:24:00' ... '22:35:00'\n    var8      (N_PROF, N_LEVELS) float64 8.073 8.073 8.073 ... -7.992 -7.992\n    var9      (N_PROF, N_LEVELS) float64 -110.2 -110.2 -110.2 ... -110.1 -110.1\n    var10     (N_PROF, N_LEVELS) float64 4.242e+03 4.242e+03 ... 3.42e+03\n    var11     (N_PROF, N_LEVELS) float64 2.4 19.8 39.7 ... 1.999e+03 3.027e+03\n    var12     (N_PROF, N_LEVELS) float64 27.69 27.7 27.7 ... 4.646 2.293 1.749\n    var13     (N_PROF, N_LEVELS) float64 33.49 33.49 33.49 ... 34.54 34.64 34.68\n    var13_qc  (N_PROF, N_LEVELS) float64 2.0 2.0 2.0 2.0 2.0 ... 2.0 2.0 2.0 2.0\n    var14     (N_PROF, N_LEVELS) float64 33.49 33.49 33.49 ... 34.54 34.64 34.68\n    var14_qc  (N_PROF, N_LEVELS) float64 2.0 2.0 2.0 2.0 2.0 ... 2.0 2.0 2.0 2.0\n    var15     (N_PROF, N_LEVELS) float64 nan nan nan nan nan ... nan nan nan nan\n    var15_qc  (N_PROF, N_LEVELS) float64 nan nan nan nan nan ... nan nan nan nan\n    var16     (N_PROF, N_LEVELS) float64 27.69 27.69 27.69 ... 4.565 2.152 1.524\n    var17     (N_PROF, N_LEVELS) float64 nan nan nan nan nan ... nan nan nan nan\n    var17_qc  (N_PROF, N_LEVELS) float64 nan nan nan nan nan ... nan nan nan nan",
      "text/html": "<pre>&lt;xarray.Dataset&gt;\nDimensions:   (N_LEVELS: 8, N_PROF: 17)\nDimensions without coordinates: N_LEVELS, N_PROF\nData variables:\n    var0      (N_PROF) object &#x27;33RBGP604_1&#x27; &#x27;33RBGP604_1&#x27; ... &#x27;33RBGP604_1&#x27;\n    var1      (N_PROF) object &#x27;PR16&#x27; &#x27;PR16&#x27; &#x27;PR16&#x27; ... &#x27;PR16&#x27; &#x27;PR16&#x27; &#x27;PR16&#x27;\n    var2      (N_PROF) object &#x27;28&#x27; &#x27;29&#x27; &#x27;30&#x27; &#x27;31&#x27; &#x27;32&#x27; ... &#x27;46&#x27; &#x27;47&#x27; &#x27;48&#x27; &#x27;49&#x27;\n    var3      (N_PROF) float64 1.0 1.0 1.0 1.0 1.0 1.0 ... 1.0 1.0 1.0 1.0 1.0\n    var4      (N_PROF, N_LEVELS) object &#x27;8&#x27; &#x27;7&#x27; &#x27;6&#x27; &#x27;5&#x27; &#x27;4&#x27; ... &#x27;4&#x27; &#x27;3&#x27; &#x27;2&#x27; &#x27;1&#x27;\n    var5      (N_PROF, N_LEVELS) object &#x27;8&#x27; &#x27;7&#x27; &#x27;6&#x27; &#x27;5&#x27; &#x27;4&#x27; ... &#x27;4&#x27; &#x27;3&#x27; &#x27;2&#x27; &#x27;1&#x27;\n    var5_qc   (N_PROF, N_LEVELS) float64 2.0 2.0 2.0 2.0 2.0 ... 2.0 2.0 2.0 2.0\n    var6      (N_PROF, N_LEVELS) object &#x27;2004-11-14&#x27; ... &#x27;2004-11-21&#x27;\n    var7      (N_PROF, N_LEVELS) object &#x27;11:24:00&#x27; &#x27;11:24:00&#x27; ... &#x27;22:35:00&#x27;\n    var8      (N_PROF, N_LEVELS) float64 8.073 8.073 8.073 ... -7.992 -7.992\n    var9      (N_PROF, N_LEVELS) float64 -110.2 -110.2 -110.2 ... -110.1 -110.1\n    var10     (N_PROF, N_LEVELS) float64 4.242e+03 4.242e+03 ... 3.42e+03\n    var11     (N_PROF, N_LEVELS) float64 2.4 19.8 39.7 ... 1.999e+03 3.027e+03\n    var12     (N_PROF, N_LEVELS) float64 27.69 27.7 27.7 ... 4.646 2.293 1.749\n    var13     (N_PROF, N_LEVELS) float64 33.49 33.49 33.49 ... 34.54 34.64 34.68\n    var13_qc  (N_PROF, N_LEVELS) float64 2.0 2.0 2.0 2.0 2.0 ... 2.0 2.0 2.0 2.0\n    var14     (N_PROF, N_LEVELS) float64 33.49 33.49 33.49 ... 34.54 34.64 34.68\n    var14_qc  (N_PROF, N_LEVELS) float64 2.0 2.0 2.0 2.0 2.0 ... 2.0 2.0 2.0 2.0\n    var15     (N_PROF, N_LEVELS) float64 nan nan nan nan nan ... nan nan nan nan\n    var15_qc  (N_PROF, N_LEVELS) float64 nan nan nan nan nan ... nan nan nan nan\n    var16     (N_PROF, N_LEVELS) float64 27.69 27.69 27.69 ... 4.565 2.152 1.524\n    var17     (N_PROF, N_LEVELS) float64 nan nan nan nan nan ... nan nan nan nan\n    var17_qc  (N_PROF, N_LEVELS) float64 nan nan nan nan nan ... nan nan nan nan</pre>"
     },
     "metadata": {},
     "execution_count": 13
    }
   ],
   "source": [
    "ex_xr = ex.to_xarray()\n",
    "ex_xr"
   ]
  },
  {
   "cell_type": "code",
   "execution_count": null,
   "metadata": {},
   "outputs": [],
   "source": []
  }
 ]
}