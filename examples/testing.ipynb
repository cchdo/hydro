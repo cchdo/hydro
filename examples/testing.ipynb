{
 "nbformat": 4,
 "nbformat_minor": 2,
 "metadata": {
  "language_info": {
   "name": "python",
   "codemirror_mode": {
    "name": "ipython",
    "version": 3
   },
   "version": "3.8.2-final"
  },
  "orig_nbformat": 2,
  "file_extension": ".py",
  "mimetype": "text/x-python",
  "name": "python",
  "npconvert_exporter": "python",
  "pygments_lexer": "ipython3",
  "version": 3,
  "kernelspec": {
   "name": "python38264bitc98970795c7d43639f7aa9f07d5f92e6",
   "display_name": "Python 3.8.2 64-bit"
  }
 },
 "cells": [
  {
   "cell_type": "code",
   "execution_count": 1,
   "metadata": {},
   "outputs": [
    {
     "output_type": "execute_result",
     "data": {
      "text/plain": "<xarray.core.options.set_options at 0x7f79917ee820>"
     },
     "metadata": {},
     "execution_count": 1
    }
   ],
   "source": [
    "from hydro.exchange import read_exchange\n",
    "from hydro.tutorial import CCHDOBottleData\n",
    "from hydro.exchange.exceptions import ExchangeError\n",
    "\n",
    "import xarray as xr\n",
    "xr.set_options(display_style=\"text\")\n",
    "#disable the HTML repr for now"
   ]
  },
  {
   "cell_type": "code",
   "execution_count": 2,
   "metadata": {},
   "outputs": [],
   "source": [
    "# This loads a ton of data (300MB) can take a while\n",
    "#bottle_data = CCHDOBottleData()"
   ]
  },
  {
   "cell_type": "code",
   "execution_count": 2,
   "metadata": {
    "tags": [
     "outputPrepend"
    ]
   },
   "outputs": [
    {
     "output_type": "stream",
     "name": "stdout",
     "text": "CPU times: user 53.5 ms, sys: 2.67 ms, total: 56.2 ms\nWall time: 604 ms\n"
    }
   ],
   "source": [
    "%%time\n",
    "ex = read_exchange(\"https://cchdo.ucsd.edu/data/45/pr16_2004b_hy1.csv\")\n",
    "\n",
    "#Big Wall time is cause this is a network request"
   ]
  },
  {
   "cell_type": "code",
   "execution_count": 3,
   "metadata": {
    "tags": [
     "outputPrepend",
     "outputPrepend"
    ]
   },
   "outputs": [
    {
     "output_type": "stream",
     "name": "stdout",
     "text": "CPU times: user 109 ms, sys: 21.9 ms, total: 131 ms\nWall time: 141 ms\n"
    },
    {
     "output_type": "execute_result",
     "data": {
      "text/plain": "<xarray.Dataset>\nDimensions:    (N_LEVELS: 8, N_PROF: 17)\nCoordinates:\n    pressure   (N_PROF) float64 2.4 2.0 2.6 1.5 1.8 1.9 ... 3.9 2.3 1.7 1.9 2.3\n    latitude   (N_PROF) float64 8.073 6.998 6.0 5.113 ... -6.003 -7.0 -7.992\n    longitude  (N_PROF) float64 -110.2 -110.0 -110.0 ... -110.0 -110.0 -110.1\n    time       (N_PROF) datetime64[ns] 2004-11-14T11:24:00 ... 2004-11-21T22:35:00\nDimensions without coordinates: N_LEVELS, N_PROF\nData variables:\n    var0       (N_PROF) object '33RBGP604_1' '33RBGP604_1' ... '33RBGP604_1'\n    var1       (N_PROF) object 'PR16' 'PR16' 'PR16' ... 'PR16' 'PR16' 'PR16'\n    var2       (N_PROF) object '28' '29' '30' '31' '32' ... '46' '47' '48' '49'\n    var3       (N_PROF) float64 1.0 1.0 1.0 1.0 1.0 1.0 ... 1.0 1.0 1.0 1.0 1.0\n    var4       (N_PROF, N_LEVELS) object '8' '7' '6' '5' '4' ... '4' '3' '2' '1'\n    var5       (N_PROF, N_LEVELS) object '8' '7' '6' '5' '4' ... '4' '3' '2' '1'\n    var5_qc    (N_PROF, N_LEVELS) float64 2.0 2.0 2.0 2.0 ... 2.0 2.0 2.0 2.0\n    var6       (N_PROF) float64 4.242e+03 3.751e+03 ... 3.457e+03 3.42e+03\n    var7       (N_PROF, N_LEVELS) float64 27.69 27.7 27.7 ... 4.646 2.293 1.749\n    var8       (N_PROF, N_LEVELS) float64 33.49 33.49 33.49 ... 34.64 34.68\n    var8_qc    (N_PROF, N_LEVELS) float64 2.0 2.0 2.0 2.0 ... 2.0 2.0 2.0 2.0\n    var9       (N_PROF, N_LEVELS) float64 33.49 33.49 33.49 ... 34.64 34.68\n    var9_qc    (N_PROF, N_LEVELS) float64 2.0 2.0 2.0 2.0 ... 2.0 2.0 2.0 2.0\n    var10      (N_PROF, N_LEVELS) float64 nan nan nan nan ... nan nan nan nan\n    var10_qc   (N_PROF, N_LEVELS) float64 nan nan nan nan ... nan nan nan nan\n    var11      (N_PROF, N_LEVELS) float64 27.69 27.69 27.69 ... 2.152 1.524\n    var12      (N_PROF, N_LEVELS) float64 nan nan nan nan ... nan nan nan nan\n    var12_qc   (N_PROF, N_LEVELS) float64 nan nan nan nan ... nan nan nan nan",
      "text/html": "<pre>&lt;xarray.Dataset&gt;\nDimensions:    (N_LEVELS: 8, N_PROF: 17)\nCoordinates:\n    pressure   (N_PROF) float64 2.4 2.0 2.6 1.5 1.8 1.9 ... 3.9 2.3 1.7 1.9 2.3\n    latitude   (N_PROF) float64 8.073 6.998 6.0 5.113 ... -6.003 -7.0 -7.992\n    longitude  (N_PROF) float64 -110.2 -110.0 -110.0 ... -110.0 -110.0 -110.1\n    time       (N_PROF) datetime64[ns] 2004-11-14T11:24:00 ... 2004-11-21T22:35:00\nDimensions without coordinates: N_LEVELS, N_PROF\nData variables:\n    var0       (N_PROF) object &#x27;33RBGP604_1&#x27; &#x27;33RBGP604_1&#x27; ... &#x27;33RBGP604_1&#x27;\n    var1       (N_PROF) object &#x27;PR16&#x27; &#x27;PR16&#x27; &#x27;PR16&#x27; ... &#x27;PR16&#x27; &#x27;PR16&#x27; &#x27;PR16&#x27;\n    var2       (N_PROF) object &#x27;28&#x27; &#x27;29&#x27; &#x27;30&#x27; &#x27;31&#x27; &#x27;32&#x27; ... &#x27;46&#x27; &#x27;47&#x27; &#x27;48&#x27; &#x27;49&#x27;\n    var3       (N_PROF) float64 1.0 1.0 1.0 1.0 1.0 1.0 ... 1.0 1.0 1.0 1.0 1.0\n    var4       (N_PROF, N_LEVELS) object &#x27;8&#x27; &#x27;7&#x27; &#x27;6&#x27; &#x27;5&#x27; &#x27;4&#x27; ... &#x27;4&#x27; &#x27;3&#x27; &#x27;2&#x27; &#x27;1&#x27;\n    var5       (N_PROF, N_LEVELS) object &#x27;8&#x27; &#x27;7&#x27; &#x27;6&#x27; &#x27;5&#x27; &#x27;4&#x27; ... &#x27;4&#x27; &#x27;3&#x27; &#x27;2&#x27; &#x27;1&#x27;\n    var5_qc    (N_PROF, N_LEVELS) float64 2.0 2.0 2.0 2.0 ... 2.0 2.0 2.0 2.0\n    var6       (N_PROF) float64 4.242e+03 3.751e+03 ... 3.457e+03 3.42e+03\n    var7       (N_PROF, N_LEVELS) float64 27.69 27.7 27.7 ... 4.646 2.293 1.749\n    var8       (N_PROF, N_LEVELS) float64 33.49 33.49 33.49 ... 34.64 34.68\n    var8_qc    (N_PROF, N_LEVELS) float64 2.0 2.0 2.0 2.0 ... 2.0 2.0 2.0 2.0\n    var9       (N_PROF, N_LEVELS) float64 33.49 33.49 33.49 ... 34.64 34.68\n    var9_qc    (N_PROF, N_LEVELS) float64 2.0 2.0 2.0 2.0 ... 2.0 2.0 2.0 2.0\n    var10      (N_PROF, N_LEVELS) float64 nan nan nan nan ... nan nan nan nan\n    var10_qc   (N_PROF, N_LEVELS) float64 nan nan nan nan ... nan nan nan nan\n    var11      (N_PROF, N_LEVELS) float64 27.69 27.69 27.69 ... 2.152 1.524\n    var12      (N_PROF, N_LEVELS) float64 nan nan nan nan ... nan nan nan nan\n    var12_qc   (N_PROF, N_LEVELS) float64 nan nan nan nan ... nan nan nan nan</pre>"
     },
     "metadata": {},
     "execution_count": 3
    }
   ],
   "source": [
    "%%time\n",
    "ex_xr = ex.to_xarray()\n",
    "ex_xr"
   ]
  },
  {
   "cell_type": "code",
   "execution_count": 4,
   "metadata": {},
   "outputs": [],
   "source": [
    "ex_xr.to_netcdf(\"test.nc\")"
   ]
  },
  {
   "cell_type": "code",
   "execution_count": 5,
   "metadata": {},
   "outputs": [
    {
     "output_type": "stream",
     "name": "stdout",
     "text": "netcdf test {\ndimensions:\n\tN_PROF = 17 ;\n\tN_LEVELS = 8 ;\nvariables:\n\tstring var0(N_PROF) ;\n\t\tvar0:whp_name = \"EXPOCODE\" ;\n\t\tvar0:coordinates = \"pressure time longitude latitude\" ;\n\tstring var1(N_PROF) ;\n\t\tvar1:whp_name = \"SECT_ID\" ;\n\t\tvar1:coordinates = \"pressure time longitude latitude\" ;\n\tstring var2(N_PROF) ;\n\t\tvar2:whp_name = \"STNNBR\" ;\n\t\tvar2:coordinates = \"pressure time longitude latitude\" ;\n\tfloat var3(N_PROF) ;\n\t\tvar3:_FillValue = NaNf ;\n\t\tvar3:whp_name = \"CASTNO\" ;\n\t\tvar3:coordinates = \"pressure time longitude latitude\" ;\n\tstring var4(N_PROF, N_LEVELS) ;\n\t\tvar4:whp_name = \"SAMPNO\" ;\n\t\tvar4:coordinates = \"pressure time longitude latitude\" ;\n\tstring var5(N_PROF, N_LEVELS) ;\n\t\tvar5:whp_name = \"BTLNBR\" ;\n\t\tvar5:ancillary_variables = \"var5_qc\" ;\n\t\tvar5:coordinates = \"pressure time longitude latitude\" ;\n\tbyte var5_qc(N_PROF, N_LEVELS) ;\n\t\tvar5_qc:_FillValue = 9b ;\n\t\tvar5_qc:standard_name = \"status_flag\" ;\n\t\tvar5_qc:flag_values = 0b, 1b, 2b, 3b, 4b, 5b, 6b, 7b, 8b, 9b ;\n\t\tvar5_qc:flag_meanings = \"no_flag_assigned bottle_information_unavailable no_problems_noted leaking did_not_trip_correctly not_reported significant_discrepancy_in_measured_values_between_gerard_and_niskin_bottles unknown_problem pair_did_not_trip_correctly_note_that_the_niskin_bottle_can_trip_at_an_unplanned_depth_while_the_gerard_trips_correctly_and_vice_versa samples_not_drawn_from_this_bottle\" ;\n\t\tvar5_qc:whp_flag_scheme = \"woce_bottle\" ;\n\t\tvar5_qc:coordinates = \"pressure time longitude latitude\" ;\n\tfloat var6(N_PROF) ;\n\t\tvar6:_FillValue = NaNf ;\n\t\tvar6:whp_name = \"DEPTH\" ;\n\t\tvar6:whp_unit = \"METERS\" ;\n\t\tvar6:standard_name = \"sea_floor_depth_below_sea_surface\" ;\n\t\tvar6:units = \"m\" ;\n\t\tvar6:coordinates = \"pressure time longitude latitude\" ;\n\tfloat var7(N_PROF, N_LEVELS) ;\n\t\tvar7:_FillValue = NaNf ;\n\t\tvar7:whp_name = \"CTDTMP\" ;\n\t\tvar7:whp_unit = \"ITS-90\" ;\n\t\tvar7:standard_name = \"sea_water_temperature\" ;\n\t\tvar7:units = \"K\" ;\n\t\tvar7:coordinates = \"pressure time longitude latitude\" ;\n\tfloat var8(N_PROF, N_LEVELS) ;\n\t\tvar8:_FillValue = NaNf ;\n\t\tvar8:whp_name = \"CTDSAL\" ;\n\t\tvar8:whp_unit = \"PSS-78\" ;\n\t\tvar8:standard_name = \"sea_water_practical_salinity\" ;\n\t\tvar8:units = \"1\" ;\n\t\tvar8:ancillary_variables = \"var8_qc\" ;\n\t\tvar8:coordinates = \"pressure time longitude latitude\" ;\n\tbyte var8_qc(N_PROF, N_LEVELS) ;\n\t\tvar8_qc:_FillValue = 9b ;\n\t\tvar8_qc:standard_name = \"status_flag\" ;\n\t\tvar8_qc:flag_values = 0b, 1b, 2b, 3b, 4b, 5b, 6b, 7b, 9b ;\n\t\tvar8_qc:flag_meanings = \"no_flag_assigned not_calibrated acceptable_measurement questionable_measurement bad_measurement not_reported interpolated_over_a_pressure_interval_larger_than_2_dbar despiked not_sampled\" ;\n\t\tvar8_qc:whp_flag_scheme = \"woce_ctd\" ;\n\t\tvar8_qc:coordinates = \"pressure time longitude latitude\" ;\n\tfloat var9(N_PROF, N_LEVELS) ;\n\t\tvar9:_FillValue = NaNf ;\n\t\tvar9:whp_name = \"SALNTY\" ;\n\t\tvar9:whp_unit = \"PSS-78\" ;\n\t\tvar9:standard_name = \"sea_water_practical_salinity\" ;\n\t\tvar9:units = \"1\" ;\n\t\tvar9:ancillary_variables = \"var9_qc\" ;\n\t\tvar9:coordinates = \"pressure time longitude latitude\" ;\n\tbyte var9_qc(N_PROF, N_LEVELS) ;\n\t\tvar9_qc:_FillValue = 9b ;\n\t\tvar9_qc:standard_name = \"status_flag\" ;\n\t\tvar9_qc:flag_values = 0b, 1b, 2b, 3b, 4b, 5b, 6b, 7b, 8b, 9b ;\n\t\tvar9_qc:flag_meanings = \"no_flag_assigned sample_for_this_measurement_was_drawn_from_water_bottle_but_analysis_not_received acceptable_measurement questionable_measurement bad_measurement not_reported mean_of_replicate_measurements manual_chromatographic_peak_measurement irregular_digital_chromatographic_peak_integration sample_not_drawn_for_this_measurement_from_this_bottle\" ;\n\t\tvar9_qc:whp_flag_scheme = \"woce_discrete\" ;\n\t\tvar9_qc:coordinates = \"pressure time longitude latitude\" ;\n\tfloat var10(N_PROF, N_LEVELS) ;\n\t\tvar10:_FillValue = NaNf ;\n\t\tvar10:whp_name = \"CTDOXY\" ;\n\t\tvar10:whp_unit = \"UMOL/KG\" ;\n\t\tvar10:standard_name = \"moles_of_oxygen_per_unit_mass_in_sea_water\" ;\n\t\tvar10:units = \"mol kg-1\" ;\n\t\tvar10:ancillary_variables = \"var10_qc\" ;\n\t\tvar10:coordinates = \"pressure time longitude latitude\" ;\n\tbyte var10_qc(N_PROF, N_LEVELS) ;\n\t\tvar10_qc:_FillValue = 9b ;\n\t\tvar10_qc:standard_name = \"status_flag\" ;\n\t\tvar10_qc:flag_values = 0b, 1b, 2b, 3b, 4b, 5b, 6b, 7b, 9b ;\n\t\tvar10_qc:flag_meanings = \"no_flag_assigned not_calibrated acceptable_measurement questionable_measurement bad_measurement not_reported interpolated_over_a_pressure_interval_larger_than_2_dbar despiked not_sampled\" ;\n\t\tvar10_qc:whp_flag_scheme = \"woce_ctd\" ;\n\t\tvar10_qc:coordinates = \"pressure time longitude latitude\" ;\n\tfloat var11(N_PROF, N_LEVELS) ;\n\t\tvar11:_FillValue = NaNf ;\n\t\tvar11:whp_name = \"THETA\" ;\n\t\tvar11:whp_unit = \"DEG C\" ;\n\t\tvar11:coordinates = \"pressure time longitude latitude\" ;\n\tfloat var12(N_PROF, N_LEVELS) ;\n\t\tvar12:_FillValue = NaNf ;\n\t\tvar12:whp_name = \"OXYGEN\" ;\n\t\tvar12:whp_unit = \"UMOL/KG\" ;\n\t\tvar12:standard_name = \"moles_of_oxygen_per_unit_mass_in_sea_water\" ;\n\t\tvar12:units = \"mol kg-1\" ;\n\t\tvar12:ancillary_variables = \"var12_qc\" ;\n\t\tvar12:coordinates = \"pressure time longitude latitude\" ;\n\tbyte var12_qc(N_PROF, N_LEVELS) ;\n\t\tvar12_qc:_FillValue = 9b ;\n\t\tvar12_qc:standard_name = \"status_flag\" ;\n\t\tvar12_qc:flag_values = 0b, 1b, 2b, 3b, 4b, 5b, 6b, 7b, 8b, 9b ;\n\t\tvar12_qc:flag_meanings = \"no_flag_assigned sample_for_this_measurement_was_drawn_from_water_bottle_but_analysis_not_received acceptable_measurement questionable_measurement bad_measurement not_reported mean_of_replicate_measurements manual_chromatographic_peak_measurement irregular_digital_chromatographic_peak_integration sample_not_drawn_for_this_measurement_from_this_bottle\" ;\n\t\tvar12_qc:whp_flag_scheme = \"woce_discrete\" ;\n\t\tvar12_qc:coordinates = \"pressure time longitude latitude\" ;\n\tdouble pressure(N_PROF) ;\n\t\tpressure:standard_name = \"sea_water_pressure\" ;\n\t\tpressure:units = \"dbar\" ;\n\t\tpressure:axis = \"Z\" ;\n\t\tpressure:whp_name = \"CTDPRS\" ;\n\t\tpressure:positive = \"down\" ;\n\t\tpressure:whp_unit = \"DBAR\" ;\n\tdouble latitude(N_PROF) ;\n\t\tlatitude:standard_name = \"latitude\" ;\n\t\tlatitude:units = \"degree_north\" ;\n\t\tlatitude:axis = \"Y\" ;\n\t\tlatitude:whp_name = \"LATITUDE\" ;\n\tdouble longitude(N_PROF) ;\n\t\tlongitude:standard_name = \"longitude\" ;\n\t\tlongitude:units = \"degree_east\" ;\n\t\tlongitude:axis = \"X\" ;\n\t\tlongitude:whp_name = \"LONGITUDE\" ;\n\tint64 time(N_PROF) ;\n\t\ttime:standard_name = \"time\" ;\n\t\ttime:axis = \"T\" ;\n\t\tstring time:whp_name = \"DATE\", \"TIME\" ;\n\t\ttime:units = \"minutes since 2004-11-14 11:24:00\" ;\n\t\ttime:calendar = \"proleptic_gregorian\" ;\ndata:\n\n var0 = \"33RBGP604_1\", \"33RBGP604_1\", \"33RBGP604_1\", \"33RBGP604_1\", \n    \"33RBGP604_1\", \"33RBGP604_1\", \"33RBGP604_1\", \"33RBGP604_1\", \n    \"33RBGP604_1\", \"33RBGP604_1\", \"33RBGP604_1\", \"33RBGP604_1\", \n    \"33RBGP604_1\", \"33RBGP604_1\", \"33RBGP604_1\", \"33RBGP604_1\", \"33RBGP604_1\" ;\n\n var1 = \"PR16\", \"PR16\", \"PR16\", \"PR16\", \"PR16\", \"PR16\", \"PR16\", \"PR16\", \n    \"PR16\", \"PR16\", \"PR16\", \"PR16\", \"PR16\", \"PR16\", \"PR16\", \"PR16\", \"PR16\" ;\n\n var2 = \"28\", \"29\", \"30\", \"31\", \"32\", \"33\", \"35\", \"37\", \"38\", \"40\", \"42\", \n    \"44\", \"45\", \"46\", \"47\", \"48\", \"49\" ;\n\n var3 = 1, 1, 1, 1, 1, 1, 1, 1, 1, 1, 1, 1, 1, 1, 1, 1, 1 ;\n\n var4 =\n  \"8\", \"7\", \"6\", \"5\", \"4\", \"3\", \"2\", \"1\",\n  \"8\", \"7\", \"6\", \"5\", \"4\", \"3\", \"2\", \"1\",\n  \"8\", \"7\", \"6\", \"5\", \"4\", \"3\", \"2\", \"1\",\n  \"8\", \"7\", \"6\", \"5\", \"4\", \"3\", \"2\", \"1\",\n  \"8\", \"7\", \"6\", \"5\", \"4\", \"3\", \"2\", \"1\",\n  \"8\", \"7\", \"6\", \"5\", \"4\", \"3\", \"2\", \"1\",\n  \"8\", \"7\", \"6\", \"5\", \"4\", \"3\", \"2\", \"1\",\n  \"8\", \"7\", \"6\", \"5\", \"4\", \"3\", \"2\", \"1\",\n  \"8\", \"7\", \"6\", \"5\", \"4\", \"3\", \"2\", \"1\",\n  \"8\", \"7\", \"6\", \"5\", \"4\", \"3\", \"1\", _,\n  \"8\", \"7\", \"6\", \"5\", \"4\", \"3\", \"2\", \"1\",\n  \"8\", \"7\", \"6\", \"5\", \"4\", \"3\", \"2\", \"1\",\n  \"8\", \"7\", \"6\", \"5\", \"4\", \"3\", \"2\", \"1\",\n  \"8\", \"7\", \"6\", \"5\", \"4\", \"3\", \"2\", \"1\",\n  \"8\", \"7\", \"6\", \"5\", \"4\", \"3\", \"2\", \"1\",\n  \"8\", \"7\", \"6\", \"5\", \"4\", \"3\", \"2\", \"1\",\n  \"8\", \"7\", \"6\", \"5\", \"4\", \"3\", \"2\", \"1\" ;\n\n var5 =\n  \"8\", \"7\", \"6\", \"5\", \"4\", \"3\", \"2\", \"1\",\n  \"8\", \"7\", \"6\", \"5\", \"4\", \"3\", \"2\", \"1\",\n  \"8\", \"7\", \"6\", \"5\", \"4\", \"3\", \"2\", \"1\",\n  \"8\", \"7\", \"6\", \"5\", \"4\", \"3\", \"2\", \"1\",\n  \"8\", \"7\", \"6\", \"5\", \"4\", \"3\", \"2\", \"1\",\n  \"8\", \"7\", \"6\", \"5\", \"4\", \"3\", \"2\", \"1\",\n  \"8\", \"7\", \"6\", \"5\", \"4\", \"3\", \"2\", \"1\",\n  \"8\", \"7\", \"6\", \"5\", \"4\", \"3\", \"2\", \"1\",\n  \"8\", \"7\", \"6\", \"5\", \"4\", \"3\", \"2\", \"1\",\n  \"8\", \"7\", \"6\", \"5\", \"4\", \"3\", \"1\", _,\n  \"8\", \"7\", \"6\", \"5\", \"4\", \"3\", \"2\", \"1\",\n  \"8\", \"7\", \"6\", \"5\", \"4\", \"3\", \"2\", \"1\",\n  \"8\", \"7\", \"6\", \"5\", \"4\", \"3\", \"2\", \"1\",\n  \"8\", \"7\", \"6\", \"5\", \"4\", \"3\", \"2\", \"1\",\n  \"8\", \"7\", \"6\", \"5\", \"4\", \"3\", \"2\", \"1\",\n  \"8\", \"7\", \"6\", \"5\", \"4\", \"3\", \"2\", \"1\",\n  \"8\", \"7\", \"6\", \"5\", \"4\", \"3\", \"2\", \"1\" ;\n\n var5_qc =\n  2, 2, 2, 2, 2, 2, 2, 2,\n  2, 2, 2, 2, 2, 2, 2, 2,\n  2, 2, 2, 2, 2, 2, 2, 2,\n  2, 2, 2, 2, 2, 2, 2, 2,\n  2, 2, 2, 2, 2, 2, 2, 2,\n  2, 2, 2, 2, 2, 2, 2, 2,\n  2, 2, 2, 2, 2, 2, 2, 2,\n  2, 2, 2, 2, 2, 2, 2, 2,\n  2, 2, 2, 2, 2, 2, 2, 2,\n  2, 2, 2, 2, 2, 2, 2, _,\n  2, 2, 2, 2, 2, 2, 2, 2,\n  2, 2, 2, 2, 2, 2, 2, 2,\n  2, 2, 2, 2, 2, 2, 2, 2,\n  2, 2, 2, 2, 2, 2, 2, 2,\n  2, 2, 2, 2, 2, 2, 2, 2,\n  2, 2, 2, 2, 2, 2, 2, 2,\n  2, 2, 2, 2, 2, 2, 2, 2 ;\n\n var6 = 4242, 3751, 3694, 3932, 3877, 3884, 3811, 3742, 3838, 3965, 3931, \n    3767, 3824, 3612, 3751, 3457, 3420 ;\n\n var7 =\n  27.689, 27.6952, 27.6988, 10.978, 9.1298, 6.9598, 5.5415, 4.7798,\n  27.4742, 27.5176, 27.5727, 11.4815, 9.1784, 7.0443, 5.714, 4.6528,\n  27.1689, 27.1741, 27.2011, 11.5438, 9.3179, 6.8603, 5.5089, 4.584,\n  27.1019, 27.1089, 27.1141, 12.6136, 9.7992, 7.384, 5.5974, 4.5438,\n  26.8981, 26.8923, 26.8547, 13.3036, 10.5447, 7.2232, 5.7821, 4.6607,\n  24.8752, 24.8829, 24.8968, 12.9128, 10.4645, 7.0589, 5.7257, 4.7057,\n  25.2054, 25.2131, 25.142, 12.7473, 9.693, 7.1729, 5.4865, 4.5633,\n  24.1377, 24.0055, 22.547, 12.7501, 9.8549, 7.2467, 5.7318, 4.666,\n  23.7839, 23.5608, 21.8851, 13.15, 5.7409, 4.8324, 2.2982, 1.7384,\n  23.4355, 23.1323, 22.4479, 12.7215, 10.3688, 7.2008, 4.8486, _,\n  23.1872, 23.1884, 23.0179, 12.5458, 11.0342, 7.2741, 5.739, 4.7784,\n  23.5191, 23.3609, 23.395, 12.838, 10.3708, 7.3387, 5.6779, 4.6202,\n  23.7136, 23.7096, 23.627, 12.9098, 10.5005, 7.1818, 5.3835, 4.487,\n  24.1331, 24.0005, 23.9925, 12.7798, 10.3299, 7.7677, 5.6959, 4.5364,\n  24.331, 24.3226, 24.3202, 12.5619, 9.5973, 7.1191, 5.5757, 4.6326,\n  24.4472, 24.452, 24.457, 12.0493, 9.908, 7.2083, 5.6006, 4.633,\n  24.9978, 24.8734, 24.7301, 12.6161, 5.5687, 4.6455, 2.2927, 1.7486 ;\n\n var8 =\n  33.4881, 33.4885, 33.4856, 34.7446, 34.6546, 34.5806, 34.5607, 34.5637,\n  33.4678, 33.6074, 33.7253, 34.7648, 34.6626, 34.587, 34.5662, 34.5662,\n  34.0272, 34.0251, 34.0588, 34.7729, 34.6753, 34.5815, 34.565, 34.567,\n  34.2688, 34.2689, 34.2687, 34.8477, 34.6936, 34.5939, 34.5641, 34.5672,\n  34.2666, 34.2673, 34.282, 34.9266, 34.7323, 34.5903, 34.5533, 34.5609,\n  34.0672, 34.07, 34.1081, 34.9055, 34.7258, 34.5839, 34.5624, 34.5607,\n  34.2163, 34.2174, 34.232, 34.9075, 34.7147, 34.5873, 34.5549, 34.5633,\n  34.3802, 34.403, 34.8087, 34.911, 34.7213, 34.5961, 34.5537, 34.5564,\n  34.506, 34.5567, 34.8501, 34.9245, 34.5546, 34.5547, 34.6406, 34.6737,\n  34.5392, 34.5916, 34.7445, 34.9143, 34.7529, 34.5879, 34.5519, _,\n  34.5737, 34.5788, 34.6673, 34.899, 34.7957, 34.5966, 34.5558, 34.5513,\n  34.6142, 34.6042, 34.8415, 34.9225, 34.769, 34.6001, 34.5552, 34.5563,\n  35.1122, 35.1107, 35.1012, 34.9278, 34.778, 34.5954, 34.5426, 34.5464,\n  35.2575, 35.2541, 35.2529, 34.9185, 34.7661, 34.6225, 34.5487, 34.5459,\n  35.3404, 35.3392, 35.3389, 34.9198, 34.723, 34.5898, 34.5442, 34.5446,\n  35.4168, 35.4164, 35.4157, 34.8837, 34.7416, 34.5909, 34.5454, 34.5446,\n  35.6111, 35.6147, 35.6063, 34.9067, 34.5427, 34.5415, 34.6391, 34.6774 ;\n\n var8_qc =\n  2, 2, 2, 2, 2, 2, 2, 2,\n  2, 2, 2, 2, 2, 2, 2, 2,\n  2, 2, 2, 2, 2, 2, 2, 2,\n  2, 2, 2, 2, 2, 2, 2, 2,\n  2, 2, 2, 2, 2, 2, 2, 2,\n  2, 2, 2, 2, 2, 2, 2, 2,\n  2, 2, 2, 2, 2, 2, 2, 2,\n  2, 2, 2, 2, 2, 2, 2, 2,\n  2, 2, 2, 2, 2, 2, 2, 2,\n  2, 2, 2, 2, 2, 2, 2, _,\n  2, 2, 2, 2, 2, 2, 2, 2,\n  2, 2, 2, 2, 2, 2, 2, 2,\n  2, 2, 2, 2, 2, 2, 2, 2,\n  2, 2, 2, 2, 2, 2, 2, 2,\n  2, 2, 2, 2, 2, 2, 2, 2,\n  2, 2, 2, 2, 2, 2, 2, 2,\n  2, 2, 2, 2, 2, 2, 2, 2 ;\n\n var9 =\n  33.4858, 33.4867, 33.488, 34.7398, 34.6508, 34.5782, 34.558, 34.5618,\n  33.4653, 33.6116, 33.7385, 34.7837, 34.6578, 34.5833, 34.5642, 34.5651,\n  34.0296, 34.0266, 34.0634, 34.7718, 34.6738, 34.5821, 34.5665, 34.5677,\n  34.27, 34.2709, 34.2722, 34.8496, 34.6928, 34.5953, 34.5658, 34.5702,\n  34.2686, 34.2701, 34.2911, 34.9259, 34.7322, 34.5918, 34.5562, 34.5642,\n  34.0687, 34.0722, 34.1245, 34.9037, 34.7244, 34.5857, 34.5656, 34.5643,\n  34.2183, 34.2184, 34.2405, 34.9084, 34.7159, 34.5908, 34.558, 34.5668,\n  34.3822, 34.4414, 34.8125, 34.9107, 34.7233, 34.5979, 34.5569, 34.5606,\n  34.5072, 34.5905, 34.8614, 34.9266, 34.5584, 34.5591, 34.6461, 34.6786,\n  34.5383, 34.5978, 34.76, 34.9141, 34.7518, 34.5873, 34.5542, _,\n  34.5731, 34.576, 34.6604, 34.8974, 34.7946, 34.5966, 34.5567, 34.5531,\n  34.6133, 34.6137, 34.8381, 34.9199, 34.7682, 34.6022, 34.5481, 34.5575,\n  35.1063, 35.1075, 35.0966, 34.9244, 34.7743, 34.5941, 34.5426, 34.5475,\n  35.2553, 35.2522, 35.2526, 34.9159, 34.7635, 34.6198, 34.5479, 34.5463,\n  35.3384, 35.3374, 35.3307, 34.9176, 34.7234, 34.5892, 34.5446, 34.5469,\n  35.415, 35.4146, 35.4144, 34.8839, 34.7408, 34.59, 34.5467, 34.545,\n  35.6113, 35.614, 35.6057, 34.9016, 34.5428, 34.5407, 34.6399, 34.6784 ;\n\n var9_qc =\n  2, 2, 2, 2, 2, 2, 2, 2,\n  2, 2, 2, 2, 2, 2, 2, 2,\n  2, 2, 2, 2, 2, 2, 2, 2,\n  2, 2, 2, 2, 2, 2, 2, 2,\n  2, 2, 2, 2, 2, 2, 2, 2,\n  2, 2, 2, 2, 2, 2, 2, 2,\n  2, 2, 2, 2, 2, 2, 2, 2,\n  2, 2, 2, 2, 2, 2, 2, 2,\n  2, 2, 2, 2, 2, 2, 2, 2,\n  2, 2, 2, 2, 2, 2, 2, _,\n  2, 2, 2, 2, 2, 2, 2, 2,\n  2, 2, 2, 2, 2, 2, 2, 2,\n  2, 2, 2, 2, 2, 2, 2, 2,\n  2, 2, 2, 2, 2, 2, 2, 2,\n  2, 2, 2, 2, 2, 2, 2, 2,\n  2, 2, 2, 2, 2, 2, 2, 2,\n  2, 2, 2, 2, 2, 2, 2, 2 ;\n\n var10 =\n  _, _, _, _, _, _, _, _,\n  _, _, _, _, _, _, _, _,\n  _, _, _, _, _, _, _, _,\n  _, _, _, _, _, _, _, _,\n  _, _, _, _, _, _, _, _,\n  _, _, _, _, _, _, _, _,\n  _, _, _, _, _, _, _, _,\n  _, _, _, _, _, _, _, _,\n  _, _, _, _, _, _, _, _,\n  _, _, _, _, _, _, _, _,\n  _, _, _, _, _, _, _, _,\n  _, _, _, _, _, _, _, _,\n  _, _, _, _, _, _, _, _,\n  _, _, _, _, _, _, _, _,\n  _, _, _, _, _, _, _, _,\n  _, _, _, _, _, _, _, _,\n  _, _, _, _, _, _, _, _ ;\n\n var10_qc =\n  _, _, _, _, _, _, _, _,\n  _, _, _, _, _, _, _, _,\n  _, _, _, _, _, _, _, _,\n  _, _, _, _, _, _, _, _,\n  _, _, _, _, _, _, _, _,\n  _, _, _, _, _, _, _, _,\n  _, _, _, _, _, _, _, _,\n  _, _, _, _, _, _, _, _,\n  _, _, _, _, _, _, _, _,\n  _, _, _, _, _, _, _, _,\n  _, _, _, _, _, _, _, _,\n  _, _, _, _, _, _, _, _,\n  _, _, _, _, _, _, _, _,\n  _, _, _, _, _, _, _, _,\n  _, _, _, _, _, _, _, _,\n  _, _, _, _, _, _, _, _,\n  _, _, _, _, _, _, _, _ ;\n\n var11 =\n  27.6884, 27.6905, 27.6896, 10.9533, 9.0855, 6.9026, 5.4726, 4.6979,\n  27.4737, 27.5129, 27.5636, 11.4562, 9.1341, 6.9867, 5.6441, 4.5719,\n  27.1683, 27.1694, 27.1917, 11.5183, 9.2731, 6.8034, 5.4401, 4.5037,\n  27.1016, 27.1043, 27.1046, 12.5867, 9.753, 7.3249, 5.528, 4.4638,\n  26.8977, 26.8876, 26.8455, 13.2756, 10.4963, 7.1646, 5.7118, 4.5798,\n  24.8748, 24.8786, 24.8881, 12.8853, 10.4163, 7.0012, 5.6557, 4.6243,\n  25.2049, 25.2088, 25.1331, 12.7202, 9.6472, 7.1147, 5.4178, 4.4832,\n  24.1371, 24.0013, 22.5389, 12.7229, 9.8085, 7.188, 5.6617, 4.5852,\n  23.7827, 23.5568, 21.8771, 13.1225, 5.6709, 4.7503, 2.1572, 1.5163,\n  23.435, 23.128, 22.4399, 12.694, 10.3209, 7.1423, 4.7664, _,\n  23.1864, 23.1844, 23.01, 12.5191, 10.9843, 7.2153, 5.6689, 4.6966,\n  23.5188, 23.3564, 23.3866, 12.8107, 10.323, 7.2798, 5.6081, 4.5396,\n  23.7128, 23.7054, 23.6185, 12.8825, 10.4523, 7.1235, 5.3156, 4.4074,\n  24.1326, 23.9962, 23.9844, 12.7526, 10.2822, 7.7069, 5.6261, 4.4564,\n  24.3306, 24.3183, 24.3116, 12.5348, 9.5517, 7.061, 5.5065, 4.552,\n  24.4468, 24.4478, 24.4483, 12.0232, 9.8615, 7.1498, 5.5313, 4.5523,\n  24.9973, 24.8693, 24.7215, 12.5892, 5.4996, 4.5648, 2.1519, 1.5237 ;\n\n var12 =\n  _, _, _, _, _, _, _, _,\n  _, _, _, _, _, _, _, _,\n  _, _, _, _, _, _, _, _,\n  _, _, _, _, _, _, _, _,\n  _, _, _, _, _, _, _, _,\n  _, _, _, _, _, _, _, _,\n  _, _, _, _, _, _, _, _,\n  _, _, _, _, _, _, _, _,\n  _, _, _, _, _, _, _, _,\n  _, _, _, _, _, _, _, _,\n  _, _, _, _, _, _, _, _,\n  _, _, _, _, _, _, _, _,\n  _, _, _, _, _, _, _, _,\n  _, _, _, _, _, _, _, _,\n  _, _, _, _, _, _, _, _,\n  _, _, _, _, _, _, _, _,\n  _, _, _, _, _, _, _, _ ;\n\n var12_qc =\n  _, _, _, _, _, _, _, _,\n  _, _, _, _, _, _, _, _,\n  _, _, _, _, _, _, _, _,\n  _, _, _, _, _, _, _, _,\n  _, _, _, _, _, _, _, _,\n  _, _, _, _, _, _, _, _,\n  _, _, _, _, _, _, _, _,\n  _, _, _, _, _, _, _, _,\n  _, _, _, _, _, _, _, _,\n  _, _, _, _, _, _, _, _,\n  _, _, _, _, _, _, _, _,\n  _, _, _, _, _, _, _, _,\n  _, _, _, _, _, _, _, _,\n  _, _, _, _, _, _, _, _,\n  _, _, _, _, _, _, _, _,\n  _, _, _, _, _, _, _, _,\n  _, _, _, _, _, _, _, _ ;\n\n pressure = 2.4, 2, 2.6, 1.5, 1.8, 1.9, 2.5, 3.1, 5.9, 2.1, 3.9, 1.3, 3.9, \n    2.3, 1.7, 1.9, 2.3 ;\n\n latitude = 8.0733, 6.9983, 6, 5.1133, 4, 2.9983, 2.0433, 1, 0.275, -1.0017, \n    -1.87, -3, -4, -4.9917, -6.0033, -7, -7.9917 ;\n\n longitude = -110.1883, -110, -110, -110.035, -110, -110.0033, -110.125, \n    -110.1667, -110.2183, -110, -109.9717, -110, -110, -109.9967, -110.0017, \n    -110, -110.0717 ;\n\n time = 0, 827, 1195, 1545, 1996, 2346, 2804, 3237, 3791, 6619, 7077, 8068, \n    8416, 9186, 9553, 9898, 10751 ;\n}\n"
    }
   ],
   "source": [
    "!ncdump test.nc"
   ]
  },
  {
   "cell_type": "code",
   "execution_count": null,
   "metadata": {},
   "outputs": [],
   "source": []
  }
 ]
}